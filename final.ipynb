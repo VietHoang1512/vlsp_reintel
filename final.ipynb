{
 "cells": [
  {
   "cell_type": "code",
   "execution_count": null,
   "metadata": {},
   "outputs": [],
   "source": [
    "import os\n",
    "import pandas as pd\n",
    "\n",
    "import tensorflow as tf\n",
    "from tensorflow.keras import backend as K\n",
    "\n",
    "import transformers\n",
    "from transformers import AutoTokenizer\n",
    "\n",
    "from data.utils import seed_all, length_plot\n",
    "from data.text import tokenized_text_normalize, vlsp_impute\n",
    "from data.datasets import data_generator\n",
    "from trainer.model import build_model, scheduler\n",
    "\n",
    "print('Using Tensorflow version:', tf.__version__)\n",
    "print('Using Transformers version:', transformers.__version__)"
   ]
  },
  {
   "cell_type": "code",
   "execution_count": null,
   "metadata": {},
   "outputs": [],
   "source": [
    "seed_all(1512)"
   ]
  },
  {
   "cell_type": "code",
   "execution_count": null,
   "metadata": {},
   "outputs": [],
   "source": [
    "train_df = pd.read_csv(\"../data/final_data/train_5_folds.csv\")\n",
    "test_df = pd.read_csv(\"../data/final_data/private_test.csv\")\n",
    "\n",
    "train_df[\"post_message\"] = train_df[\"post_message\"].astype(str)\n",
    "test_df[\"post_message\"] = test_df[\"post_message\"].astype(str)"
   ]
  },
  {
   "cell_type": "code",
   "execution_count": null,
   "metadata": {},
   "outputs": [],
   "source": [
    "train_df[\"post_message\"] = train_df[\"post_message\"].apply(tokenized_text_normalize)\n",
    "test_df[\"post_message\"] = test_df[\"post_message\"].apply(tokenized_text_normalize)"
   ]
  },
  {
   "cell_type": "code",
   "execution_count": null,
   "metadata": {},
   "outputs": [],
   "source": [
    "train_df = vlsp_impute(train_df)\n",
    "test_df = vlsp_impute(test_df)"
   ]
  },
  {
   "cell_type": "code",
   "execution_count": null,
   "metadata": {},
   "outputs": [],
   "source": [
    "MAX_LEN = 256\n",
    "BATCH_SIZE = 24"
   ]
  },
  {
   "cell_type": "code",
   "execution_count": null,
   "metadata": {},
   "outputs": [],
   "source": [
    "roberta = 'vinai/phobert-base' \n",
    "roberta_tokenizer = AutoTokenizer.from_pretrained(roberta)"
   ]
  },
  {
   "cell_type": "code",
   "execution_count": null,
   "metadata": {},
   "outputs": [],
   "source": [
    "model = build_model(roberta,max_len=MAX_LEN)\n",
    "model.summary()"
   ]
  },
  {
   "cell_type": "code",
   "execution_count": null,
   "metadata": {},
   "outputs": [],
   "source": [
    "n_splits = 5\n",
    "n_epochs = 5\n",
    "\n",
    "DISPLAY=1 # USE display=1 FOR INTERACTIVE\n",
    "exp = f'phobert+auxiliary_{MAX_LEN}_len'\n",
    "\n",
    "output_dir = f'../outputs/{exp}_models'\n",
    "os.makedirs(output_dir, exist_ok=True)"
   ]
  },
  {
   "cell_type": "code",
   "execution_count": null,
   "metadata": {},
   "outputs": [],
   "source": [
    "strategy = tf.distribute.MirroredStrategy()"
   ]
  },
  {
   "cell_type": "code",
   "execution_count": null,
   "metadata": {},
   "outputs": [],
   "source": [
    "for fold in sorted(train_df[\"fold\"].unique()):\n",
    "    print('*'*100)\n",
    "    print(f'FOLD: {fold+1}/{n_splits}')\n",
    "    K.clear_session()\n",
    "    with strategy.scope():\n",
    "        model = build_model(roberta,max_len=MAX_LEN)\n",
    "        \n",
    "    reduce_lr = tf.keras.callbacks.LearningRateScheduler(scheduler)\n",
    "\n",
    "    model_dir = os.path.join(output_dir, f'Fold_{fold+1}.h5')\n",
    "\n",
    "    sv = tf.keras.callbacks.ModelCheckpoint(model_dir, \n",
    "                                            monitor='val_auc', \n",
    "                                            verbose=1, \n",
    "                                            save_best_only=True,\n",
    "                                            save_weights_only=True, \n",
    "                                            mode='max', \n",
    "                                            save_freq='epoch')\n",
    "    \n",
    "    train_df_ = train_df[train_df[\"fold\"]!=fold]\n",
    "    val_df_ = train_df[train_df[\"fold\"]==fold]\n",
    "    train_dataset, valid_dataset = data_generator(train_df_, val_df_, roberta_tokenizer, max_len=MAX_LEN, batch_size=BATCH_SIZE)\n",
    "    \n",
    "    n_steps = train_df_.shape[0] // BATCH_SIZE + 1\n",
    "    train_history = model.fit(\n",
    "        train_dataset,\n",
    "        steps_per_epoch=n_steps,\n",
    "        \n",
    "        callbacks=[sv, \n",
    "            reduce_lr,\n",
    "            # tb\n",
    "            ],\n",
    "        validation_data=valid_dataset,\n",
    "        epochs=n_epochs\n",
    "    )"
   ]
  },
  {
   "cell_type": "code",
   "execution_count": null,
   "metadata": {},
   "outputs": [],
   "source": [
    "from transformers import TFAutoModel, AutoConfig\n",
    "config = AutoConfig.from_pretrained('vinai/phobert-base', output_attentions=True,output_hidden_states=True,use_cache=True)\n",
    "model = TFAutoModel.from_config(config)"
   ]
  },
  {
   "cell_type": "code",
   "execution_count": null,
   "metadata": {},
   "outputs": [],
   "source": [
    "X_test = regular_encode(test_df, max_len=MAX_LEN)\n",
    "y_test = np.zeros((len(test_df),1))\n",
    "test_dataset = (\n",
    "    tf.data.Dataset\n",
    "    .from_tensor_slices((X_test,y_test))\n",
    "    .batch(BATCH_SIZE)\n",
    ")"
   ]
  },
  {
   "cell_type": "code",
   "execution_count": null,
   "metadata": {},
   "outputs": [],
   "source": []
  }
 ],
 "metadata": {
  "kernelspec": {
   "display_name": "Python 3",
   "language": "python",
   "name": "python3"
  },
  "language_info": {
   "codemirror_mode": {
    "name": "ipython",
    "version": 3
   },
   "file_extension": ".py",
   "mimetype": "text/x-python",
   "name": "python",
   "nbconvert_exporter": "python",
   "pygments_lexer": "ipython3",
   "version": "3.7.7"
  }
 },
 "nbformat": 4,
 "nbformat_minor": 4
}